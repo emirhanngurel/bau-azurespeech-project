{
 "cells": [
  {
   "cell_type": "code",
   "execution_count": 3,
   "metadata": {},
   "outputs": [],
   "source": [
    "import azure.cognitiveservices.speech as speech_sdk"
   ]
  },
  {
   "cell_type": "code",
   "execution_count": 4,
   "metadata": {},
   "outputs": [],
   "source": [
    "cog_key = \"f8408ba6969c4b04802ef07953978b75\"\n",
    "cog_region = \"westeurope\""
   ]
  },
  {
   "attachments": {},
   "cell_type": "markdown",
   "metadata": {},
   "source": [
    "## Speech Recognizer"
   ]
  },
  {
   "cell_type": "code",
   "execution_count": 5,
   "metadata": {},
   "outputs": [],
   "source": [
    "speech_config = speech_sdk.SpeechConfig(subscription=cog_key, region=cog_region)\n",
    "speech_config.speech_recognition_language = \"tr-TR\"\n",
    "audio_config = speech_sdk.AudioConfig(use_default_microphone=True)\n",
    "\n",
    "speech_recognizer = speech_sdk.SpeechRecognizer(speech_config=speech_config, audio_config=audio_config)"
   ]
  },
  {
   "cell_type": "code",
   "execution_count": 9,
   "metadata": {},
   "outputs": [
    {
     "name": "stdout",
     "output_type": "stream",
     "text": [
      "Listening...\n"
     ]
    }
   ],
   "source": [
    "print(\"Listening...\")\n",
    "#playsound('time.wav')\n",
    "result = speech_recognizer.recognize_once_async().get()"
   ]
  },
  {
   "cell_type": "code",
   "execution_count": 10,
   "metadata": {},
   "outputs": [
    {
     "name": "stdout",
     "output_type": "stream",
     "text": [
      "Merhaba ben Emirhan.\n"
     ]
    }
   ],
   "source": [
    "if result.reason == speech_sdk.ResultReason.RecognizedSpeech:\n",
    "    spoken_text = result.text\n",
    "    print(spoken_text)"
   ]
  },
  {
   "attachments": {},
   "cell_type": "markdown",
   "metadata": {},
   "source": [
    "## Speech Synthesizer"
   ]
  },
  {
   "cell_type": "code",
   "execution_count": 11,
   "metadata": {},
   "outputs": [
    {
     "data": {
      "text/plain": [
       "<azure.cognitiveservices.speech.SpeechSynthesisResult at 0x1f2f7bbc580>"
      ]
     },
     "execution_count": 11,
     "metadata": {},
     "output_type": "execute_result"
    }
   ],
   "source": [
    "speech_config.speech_synthesis_voice_name = \"tr-TR-EmelNeural\"\n",
    "\n",
    "speech_synthesizer = speech_sdk.SpeechSynthesizer(speech_config=speech_config)\n",
    "#text = input(\"Enter a text to synthesize: \")\n",
    "\n",
    "speech_synthesizer.speak_text_async(text=spoken_text).get()"
   ]
  },
  {
   "attachments": {},
   "cell_type": "markdown",
   "metadata": {},
   "source": [
    "## Speech Translator"
   ]
  },
  {
   "cell_type": "code",
   "execution_count": 12,
   "metadata": {},
   "outputs": [],
   "source": [
    "translation_config = speech_sdk.translation.SpeechTranslationConfig(cog_key, cog_region)\n",
    "translation_config.speech_recognition_language = 'tr-TR'\n",
    "translation_config.add_target_language('en')\n",
    "translation_config.add_target_language('ar')\n",
    "translation_config.add_target_language('he')\n",
    "translation_config.add_target_language('tr')\n",
    "\n",
    "speech_translator = speech_sdk.translation.TranslationRecognizer(translation_config)"
   ]
  },
  {
   "cell_type": "code",
   "execution_count": 14,
   "metadata": {},
   "outputs": [
    {
     "name": "stdout",
     "output_type": "stream",
     "text": [
      "Listening for translation...\n",
      "Hello like that, I'm Emirhan.\n"
     ]
    }
   ],
   "source": [
    "print(\"Listening for translation...\")\n",
    "\n",
    "result = speech_translator.recognize_once_async().get()\n",
    "\n",
    "if result.reason == speech_sdk.ResultReason.RecognizedSpeech:\n",
    "    print(f\"Recognized speech: {result.text}\")\n",
    "\n",
    "target_language = 'en'\n",
    "translation = result.translations[target_language]\n",
    "print(translation)"
   ]
  },
  {
   "attachments": {},
   "cell_type": "markdown",
   "metadata": {},
   "source": [
    "## Translation Synthesizing"
   ]
  },
  {
   "cell_type": "code",
   "execution_count": 15,
   "metadata": {},
   "outputs": [
    {
     "data": {
      "text/plain": [
       "<azure.cognitiveservices.speech.SpeechSynthesisResult at 0x1f2f7bdac10>"
      ]
     },
     "execution_count": 15,
     "metadata": {},
     "output_type": "execute_result"
    }
   ],
   "source": [
    "translation_synthesizer_config = speech_sdk.SpeechConfig(cog_key, cog_region)\n",
    "translation_synthesizer_config.speech_synthesis_voice_name = \"tr-TR-EmelNeural\"\n",
    "translation_synthesizer = speech_sdk.SpeechSynthesizer(translation_synthesizer_config)\n",
    "\n",
    "translation_synthesizer.speak_text_async(translation).get()"
   ]
  },
  {
   "cell_type": "code",
   "execution_count": null,
   "metadata": {},
   "outputs": [],
   "source": []
  }
 ],
 "metadata": {
  "kernelspec": {
   "display_name": "base",
   "language": "python",
   "name": "python3"
  },
  "language_info": {
   "codemirror_mode": {
    "name": "ipython",
    "version": 3
   },
   "file_extension": ".py",
   "mimetype": "text/x-python",
   "name": "python",
   "nbconvert_exporter": "python",
   "pygments_lexer": "ipython3",
   "version": "3.9.12 (main, Apr  4 2022, 05:22:27) [MSC v.1916 64 bit (AMD64)]"
  },
  "orig_nbformat": 4,
  "vscode": {
   "interpreter": {
    "hash": "355dfeccc2601cab541e2bba779e56f59bfee47d553c59f450da0a84b3cc3cf1"
   }
  }
 },
 "nbformat": 4,
 "nbformat_minor": 2
}
